{
  "nbformat": 4,
  "nbformat_minor": 0,
  "metadata": {
    "colab": {
      "name": "Kaggel_IMDbMovies.pynb",
      "provenance": [],
      "collapsed_sections": [],
      "toc_visible": true,
      "authorship_tag": "ABX9TyNr+GBA5380CyQpffntWXNx",
      "include_colab_link": true
    },
    "kernelspec": {
      "display_name": "Python 3",
      "name": "python3"
    },
    "accelerator": "GPU"
  },
  "cells": [
    {
      "cell_type": "markdown",
      "metadata": {
        "id": "view-in-github",
        "colab_type": "text"
      },
      "source": [
        "<a href=\"https://colab.research.google.com/github/imenebak/Sentiment-Analysis/blob/main/Kaggel_IMDbMovies.ipynb\" target=\"_parent\"><img src=\"https://colab.research.google.com/assets/colab-badge.svg\" alt=\"Open In Colab\"/></a>"
      ]
    },
    {
      "cell_type": "markdown",
      "metadata": {
        "id": "B57AqP3t2qb0"
      },
      "source": [
        "1. Go to your account, Scroll to API section and Click Expire API Token to remove previous tokens\n",
        "\n",
        "2. Click on Create New API Token - It will download kaggle.json file on your machine."
      ]
    },
    {
      "cell_type": "code",
      "metadata": {
        "id": "3v3-LPIuZvu6"
      },
      "source": [
        "#importing data process bibliotheques keras stuff\n",
        "import pandas as pd\n",
        "import numpy as np\n",
        "import re\n",
        "import nltk\n",
        "import matplotlib.pyplot as plt\n",
        "from nltk.corpus import stopwords\n",
        "\n",
        "from numpy import array\n",
        "from keras.preprocessing.text import one_hot\n",
        "from keras.preprocessing.sequence import pad_sequences\n",
        "from keras.models import Sequential\n",
        "from keras.layers.core import Activation, Dropout, Dense\n",
        "from keras.layers import Flatten\n",
        "from keras.layers import Conv1D\n",
        "from keras.layers import LSTM\n",
        "from keras.layers import GlobalMaxPooling1D\n",
        "from keras.layers.embeddings import Embedding\n",
        "from sklearn.model_selection import train_test_split\n",
        "from keras.preprocessing.text import Tokenizer\n",
        "from keras import backend"
      ],
      "execution_count": null,
      "outputs": []
    },
    {
      "cell_type": "code",
      "metadata": {
        "id": "wnxNAe1hZ7r6"
      },
      "source": [
        "from google.colab import files\n",
        "files.upload()  #this will prompt you to upload the kaggle.json"
      ],
      "execution_count": null,
      "outputs": []
    },
    {
      "cell_type": "code",
      "metadata": {
        "colab": {
          "base_uri": "https://localhost:8080/"
        },
        "id": "MrxsB5dxap6w",
        "outputId": "a8b7355c-85dd-4acb-aa16-2b98d8a52694"
      },
      "source": [
        "!pip install -q kaggle\n",
        "!mkdir -p ~/.kaggle\n",
        "!cp kaggle.json ~/.kaggle/\n",
        "!ls ~/.kaggle\n",
        "!chmod 600 /root/.kaggle/kaggle.json  # set permission"
      ],
      "execution_count": null,
      "outputs": [
        {
          "output_type": "stream",
          "text": [
            "kaggle.json\n"
          ],
          "name": "stdout"
        }
      ]
    },
    {
      "cell_type": "code",
      "metadata": {
        "colab": {
          "base_uri": "https://localhost:8080/"
        },
        "id": "46VM0r0_b9M6",
        "outputId": "0ee7ffc5-a1a4-45c4-d16c-efc5b1438e4d"
      },
      "source": [
        "! kaggle datasets download -d lakshmi25npathi/imdb-dataset-of-50k-movie-reviews"
      ],
      "execution_count": null,
      "outputs": [
        {
          "output_type": "stream",
          "text": [
            "Downloading imdb-dataset-of-50k-movie-reviews.zip to /content\n",
            " 97% 25.0M/25.7M [00:00<00:00, 92.8MB/s]\n",
            "100% 25.7M/25.7M [00:00<00:00, 126MB/s] \n"
          ],
          "name": "stdout"
        }
      ]
    },
    {
      "cell_type": "code",
      "metadata": {
        "colab": {
          "base_uri": "https://localhost:8080/"
        },
        "id": "f3Koojjhcp42",
        "outputId": "ad057fde-797d-4dfa-8e24-d10b9805ef66"
      },
      "source": [
        "!unzip imdb-dataset-of-50k-movie-reviews"
      ],
      "execution_count": null,
      "outputs": [
        {
          "output_type": "stream",
          "text": [
            "Archive:  imdb-dataset-of-50k-movie-reviews.zip\n",
            "  inflating: IMDB Dataset.csv        \n"
          ],
          "name": "stdout"
        }
      ]
    },
    {
      "cell_type": "code",
      "metadata": {
        "id": "LzfoiG5V7JIt"
      },
      "source": [
        "def drawplot(history):\n",
        "  plt.plot(history.history['acc'])\n",
        "  plt.plot(history.history['val_acc'])\n",
        "\n",
        "  plt.title('model accuracy')\n",
        "  plt.ylabel('accuracy')\n",
        "  plt.xlabel('epoch')\n",
        "  plt.legend(['train','test'], loc = 'upper left')\n",
        "  plt.show()\n",
        "\n",
        "  plt.plot(history.history['loss'])\n",
        "  plt.plot(history.history['val_loss'])\n",
        "\n",
        "  plt.title('model loss')\n",
        "  plt.ylabel('loss')\n",
        "  plt.xlabel('epoch')\n",
        "  plt.legend(['train','test'], loc = 'upper left')\n",
        "  plt.show()"
      ],
      "execution_count": null,
      "outputs": []
    },
    {
      "cell_type": "code",
      "metadata": {
        "id": "57jjrcF08CrU"
      },
      "source": [
        "def prediction(ins):\n",
        "  for instance in ins:\n",
        "    print(instance)\n",
        "    instance = tokenizer.texts_to_sequences(instance)\n",
        "\n",
        "    flat_list = []\n",
        "    for sublist in instance:\n",
        "        for item in sublist:\n",
        "            flat_list.append(item)\n",
        "\n",
        "    flat_list = [flat_list]\n",
        "\n",
        "    instance = pad_sequences(flat_list, padding='post', maxlen=maxlen)\n",
        "\n",
        "    a = model.predict(instance)\n",
        "    if a[0] < 0.5 :\n",
        "      print(\"Negative rev\")\n",
        "    else:\n",
        "      print(\"Positive rev\")\n"
      ],
      "execution_count": null,
      "outputs": []
    },
    {
      "cell_type": "markdown",
      "metadata": {
        "id": "crUmO5xl7xen"
      },
      "source": [
        "# **Data Analysing**"
      ]
    },
    {
      "cell_type": "code",
      "metadata": {
        "colab": {
          "base_uri": "https://localhost:8080/"
        },
        "id": "K0wOjaR_aEhS",
        "outputId": "06b3a3f6-45bd-4e17-bf9b-323e08a8720d"
      },
      "source": [
        "movie_reviews = pd.read_csv(\"/content/IMDB Dataset.csv\")\n",
        "movie_reviews.isnull().values.any()\n",
        "movie_reviews.shape"
      ],
      "execution_count": null,
      "outputs": [
        {
          "output_type": "execute_result",
          "data": {
            "text/plain": [
              "(50000, 2)"
            ]
          },
          "metadata": {
            "tags": []
          },
          "execution_count": 6
        }
      ]
    },
    {
      "cell_type": "code",
      "metadata": {
        "colab": {
          "base_uri": "https://localhost:8080/",
          "height": 204
        },
        "id": "QxmP4Wg-cy0F",
        "outputId": "6c84e766-bd7d-48fa-d04d-9c0478dffcd5"
      },
      "source": [
        "movie_reviews.head()"
      ],
      "execution_count": null,
      "outputs": [
        {
          "output_type": "execute_result",
          "data": {
            "text/html": [
              "<div>\n",
              "<style scoped>\n",
              "    .dataframe tbody tr th:only-of-type {\n",
              "        vertical-align: middle;\n",
              "    }\n",
              "\n",
              "    .dataframe tbody tr th {\n",
              "        vertical-align: top;\n",
              "    }\n",
              "\n",
              "    .dataframe thead th {\n",
              "        text-align: right;\n",
              "    }\n",
              "</style>\n",
              "<table border=\"1\" class=\"dataframe\">\n",
              "  <thead>\n",
              "    <tr style=\"text-align: right;\">\n",
              "      <th></th>\n",
              "      <th>review</th>\n",
              "      <th>sentiment</th>\n",
              "    </tr>\n",
              "  </thead>\n",
              "  <tbody>\n",
              "    <tr>\n",
              "      <th>0</th>\n",
              "      <td>One of the other reviewers has mentioned that ...</td>\n",
              "      <td>positive</td>\n",
              "    </tr>\n",
              "    <tr>\n",
              "      <th>1</th>\n",
              "      <td>A wonderful little production. &lt;br /&gt;&lt;br /&gt;The...</td>\n",
              "      <td>positive</td>\n",
              "    </tr>\n",
              "    <tr>\n",
              "      <th>2</th>\n",
              "      <td>I thought this was a wonderful way to spend ti...</td>\n",
              "      <td>positive</td>\n",
              "    </tr>\n",
              "    <tr>\n",
              "      <th>3</th>\n",
              "      <td>Basically there's a family where a little boy ...</td>\n",
              "      <td>negative</td>\n",
              "    </tr>\n",
              "    <tr>\n",
              "      <th>4</th>\n",
              "      <td>Petter Mattei's \"Love in the Time of Money\" is...</td>\n",
              "      <td>positive</td>\n",
              "    </tr>\n",
              "  </tbody>\n",
              "</table>\n",
              "</div>"
            ],
            "text/plain": [
              "                                              review sentiment\n",
              "0  One of the other reviewers has mentioned that ...  positive\n",
              "1  A wonderful little production. <br /><br />The...  positive\n",
              "2  I thought this was a wonderful way to spend ti...  positive\n",
              "3  Basically there's a family where a little boy ...  negative\n",
              "4  Petter Mattei's \"Love in the Time of Money\" is...  positive"
            ]
          },
          "metadata": {
            "tags": []
          },
          "execution_count": 7
        }
      ]
    },
    {
      "cell_type": "code",
      "metadata": {
        "colab": {
          "base_uri": "https://localhost:8080/",
          "height": 173
        },
        "id": "kuA0d78se5TS",
        "outputId": "6f97abe0-7984-45ba-fc6d-57ce6f88a55e"
      },
      "source": [
        "#Summary of the dataset\n",
        "movie_reviews.describe()"
      ],
      "execution_count": null,
      "outputs": [
        {
          "output_type": "execute_result",
          "data": {
            "text/html": [
              "<div>\n",
              "<style scoped>\n",
              "    .dataframe tbody tr th:only-of-type {\n",
              "        vertical-align: middle;\n",
              "    }\n",
              "\n",
              "    .dataframe tbody tr th {\n",
              "        vertical-align: top;\n",
              "    }\n",
              "\n",
              "    .dataframe thead th {\n",
              "        text-align: right;\n",
              "    }\n",
              "</style>\n",
              "<table border=\"1\" class=\"dataframe\">\n",
              "  <thead>\n",
              "    <tr style=\"text-align: right;\">\n",
              "      <th></th>\n",
              "      <th>review</th>\n",
              "      <th>sentiment</th>\n",
              "    </tr>\n",
              "  </thead>\n",
              "  <tbody>\n",
              "    <tr>\n",
              "      <th>count</th>\n",
              "      <td>50000</td>\n",
              "      <td>50000</td>\n",
              "    </tr>\n",
              "    <tr>\n",
              "      <th>unique</th>\n",
              "      <td>49582</td>\n",
              "      <td>2</td>\n",
              "    </tr>\n",
              "    <tr>\n",
              "      <th>top</th>\n",
              "      <td>Loved today's show!!! It was a variety and not...</td>\n",
              "      <td>negative</td>\n",
              "    </tr>\n",
              "    <tr>\n",
              "      <th>freq</th>\n",
              "      <td>5</td>\n",
              "      <td>25000</td>\n",
              "    </tr>\n",
              "  </tbody>\n",
              "</table>\n",
              "</div>"
            ],
            "text/plain": [
              "                                                   review sentiment\n",
              "count                                               50000     50000\n",
              "unique                                              49582         2\n",
              "top     Loved today's show!!! It was a variety and not...  negative\n",
              "freq                                                    5     25000"
            ]
          },
          "metadata": {
            "tags": []
          },
          "execution_count": 8
        }
      ]
    },
    {
      "cell_type": "code",
      "metadata": {
        "colab": {
          "base_uri": "https://localhost:8080/",
          "height": 137
        },
        "id": "04S4OfJEeZV-",
        "outputId": "e7d3d5fe-d6b8-4a2e-a6f4-418fb3122bbb"
      },
      "source": [
        "movie_reviews[\"review\"][3]"
      ],
      "execution_count": null,
      "outputs": [
        {
          "output_type": "execute_result",
          "data": {
            "application/vnd.google.colaboratory.intrinsic+json": {
              "type": "string"
            },
            "text/plain": [
              "\"Basically there's a family where a little boy (Jake) thinks there's a zombie in his closet & his parents are fighting all the time.<br /><br />This movie is slower than a soap opera... and suddenly, Jake decides to become Rambo and kill the zombie.<br /><br />OK, first of all when you're going to make a film you must Decide if its a thriller or a drama! As a drama the movie is watchable. Parents are divorcing & arguing like in real life. And then we have Jake with his closet which totally ruins all the film! I expected to see a BOOGEYMAN similar movie, and instead i watched a drama with some meaningless thriller spots.<br /><br />3 out of 10 just for the well playing parents & descent dialogs. As for the shots with Jake: just ignore them.\""
            ]
          },
          "metadata": {
            "tags": []
          },
          "execution_count": 9
        }
      ]
    },
    {
      "cell_type": "code",
      "metadata": {
        "colab": {
          "base_uri": "https://localhost:8080/",
          "height": 296
        },
        "id": "3esc8Eu_eyiN",
        "outputId": "6d0edc19-3e68-4687-c17e-1727381b1e04"
      },
      "source": [
        "import seaborn as sns\n",
        "sns.countplot(x='sentiment', data=movie_reviews)"
      ],
      "execution_count": null,
      "outputs": [
        {
          "output_type": "execute_result",
          "data": {
            "text/plain": [
              "<matplotlib.axes._subplots.AxesSubplot at 0x7f584b6a67f0>"
            ]
          },
          "metadata": {
            "tags": []
          },
          "execution_count": 10
        },
        {
          "output_type": "display_data",
          "data": {
            "image/png": "[encoded data removed]",
            "text/plain": [
              "<Figure size 432x288 with 1 Axes>"
            ]
          },
          "metadata": {
            "tags": [],
            "needs_background": "light"
          }
        }
      ]
    },
    {
      "cell_type": "code",
      "metadata": {
        "colab": {
          "base_uri": "https://localhost:8080/"
        },
        "id": "j8U11gFViFk7",
        "outputId": "68a05801-55e3-4a8b-8f73-850f27811e54"
      },
      "source": [
        "movie_reviews.isna().sum() # Checking for any missing values"
      ],
      "execution_count": null,
      "outputs": [
        {
          "output_type": "execute_result",
          "data": {
            "text/plain": [
              "review       0\n",
              "sentiment    0\n",
              "dtype: int64"
            ]
          },
          "metadata": {
            "tags": []
          },
          "execution_count": 11
        }
      ]
    },
    {
      "cell_type": "markdown",
      "metadata": {
        "id": "cXbevldt8haE"
      },
      "source": [
        "# **Data Processing**"
      ]
    },
    {
      "cell_type": "markdown",
      "metadata": {
        "id": "PhRCVRRfjni0"
      },
      "source": [
        "\n",
        "\n",
        "\n",
        "---\n",
        "\n",
        "\n",
        "\n",
        "*   As the sentences have html line breaks in them, they would be replaced with \".\" prior to next steps of preprocessing, else the tags would lose meaning and dilute the sentences.\n",
        "\n",
        "*   Inspecting the dataset reveled that there are ( ½, ¾, ,ª,³,º) characters which are not numbers and hence have been cleaned explictly.\n",
        "\n",
        "\n",
        "*   TweetTokenizer - seems to be smartly seperating numbers into different token i.e. \"entries.3/10\" is sepeared into two tokens \"entries\" and \"310\" so that we can remove 310 in next iterations, also TweetTokenizer is idenityfing words like \"cannot\" and \"gonna\" as one token. TreebankWordTokenizer and word tokenizer are identifying \"entries310\" as one token and \"cannot\" as two tokens i.e. \"can\" and \"not\" and hence TweetTokenizer is chosen.\n",
        "*   As the corupus mostly contain english words, I have chosen to remove english stop words exlcuding \"n't\",\"nt\", \"not\", \"no\" as they might contribute to sentiment.\n",
        "numbers have also been removed\n",
        "There are a lot of words which are seperated by punctuation marks and not by space for example - crazy-Chinese-musical-in-Paris-with-Barbet-Schroeder but.oh.dear.god.it.sounds.like.they're.all.reading.from.scripts. Hence for words with size greater than 20 punctuation marks and underscore have been replaced by space and for the rest punctuation marks have been removed.\n",
        "\n",
        "\n",
        "*   Hyperlinks have also been removed using regex patterns\n",
        "Using Lemmatisation over stemming as words like \"flies\" will be handled better using Lemmatisation\n",
        "Underscores are handled differently than punctuation marks as there are some curse words censored by underscre example - f__ed, if we remove underscore completely then the meaning of the word changes entirely, hence tokens that **have at the beginning / end** have been handled using st.stip(\"_\") and underscore in between tokens with size less than 20 have been left at they are.\n",
        "\n",
        "*  A lot of user exclaimed words were also found in different forms (example - yeeshhhhhhhhhhhhhhhhh) and hence the most frequent ones have been identified and replaced by the respective words using regex patterns.\n",
        "* There are also multiple words which are not seperated by space or punctuation mark,(Example - heyijustleftmycoatbehind) these are hardcoded into a dict and then replaced"
      ]
    },
    {
      "cell_type": "code",
      "metadata": {
        "id": "kwzXnfIxisMd"
      },
      "source": [
        "def preprocess_text(sen):\n",
        "    # Removing html tags\n",
        "    sentence = remove_tags(sen)\n",
        "    # Remove punctuations and numbers\n",
        "    sentence = re.sub('[^a-zA-Z]', ' ', sentence)\n",
        "    # Single character removal\n",
        "    sentence = re.sub(r\"\\s+[a-zA-Z]\\s+\", ' ', sentence)\n",
        "    # Removing multiple spaces\n",
        "    sentence = re.sub(r'\\s+', ' ', sentence)\n",
        "    return sentence"
      ],
      "execution_count": null,
      "outputs": []
    },
    {
      "cell_type": "code",
      "metadata": {
        "id": "x_5OUhkZ9nz-"
      },
      "source": [
        "TAG_RE = re.compile(r'<[^>]+>')\n",
        "def remove_tags(text):\n",
        "    return TAG_RE.sub('', text)"
      ],
      "execution_count": null,
      "outputs": []
    },
    {
      "cell_type": "code",
      "metadata": {
        "id": "BBdIf9EJ9vO1"
      },
      "source": [
        "X = []\n",
        "sentences = list(movie_reviews['review'])\n",
        "for sen in sentences:\n",
        "    X.append(preprocess_text(sen))"
      ],
      "execution_count": null,
      "outputs": []
    },
    {
      "cell_type": "code",
      "metadata": {
        "colab": {
          "base_uri": "https://localhost:8080/",
          "height": 120
        },
        "id": "QiAOwWq79z9O",
        "outputId": "be9a5fa0-7f2b-4d1b-94e2-f3fef8b0da07"
      },
      "source": [
        "X[3]"
      ],
      "execution_count": null,
      "outputs": [
        {
          "output_type": "execute_result",
          "data": {
            "application/vnd.google.colaboratory.intrinsic+json": {
              "type": "string"
            },
            "text/plain": [
              "'Basically there a family where little boy Jake thinks there a zombie in his closet his parents are fighting all the time This movie is slower than soap opera and suddenly Jake decides to become Rambo and kill the zombie OK first of all when you re going to make film you must Decide if its thriller or drama As drama the movie is watchable Parents are divorcing arguing like in real life And then we have Jake with his closet which totally ruins all the film expected to see BOOGEYMAN similar movie and instead watched drama with some meaningless thriller spots out of just for the well playing parents descent dialogs As for the shots with Jake just ignore them '"
            ]
          },
          "metadata": {
            "tags": []
          },
          "execution_count": 15
        }
      ]
    },
    {
      "cell_type": "code",
      "metadata": {
        "id": "CCUNTrBx95w4"
      },
      "source": [
        "y = movie_reviews['sentiment']\n",
        "y = np.array(list(map(lambda x: 1 if x==\"positive\" else 0, y)))"
      ],
      "execution_count": null,
      "outputs": []
    },
    {
      "cell_type": "code",
      "metadata": {
        "id": "IlMB5lVK-Nt5"
      },
      "source": [
        "X_train, X_test, y_train, y_test = train_test_split(X, y, test_size=0.25, random_state=42)"
      ],
      "execution_count": null,
      "outputs": []
    },
    {
      "cell_type": "markdown",
      "metadata": {
        "id": "n136gy0Y-haC"
      },
      "source": [
        "* create a word-to-index dictionary"
      ]
    },
    {
      "cell_type": "code",
      "metadata": {
        "id": "e21TcoPC-Tze"
      },
      "source": [
        "tokenizer = Tokenizer(num_words=5000)\n",
        "tokenizer.fit_on_texts(X_train)\n",
        "X_train = tokenizer.texts_to_sequences(X_train)\n",
        "X_test = tokenizer.texts_to_sequences(X_test)"
      ],
      "execution_count": null,
      "outputs": []
    },
    {
      "cell_type": "code",
      "metadata": {
        "id": "Xhhd2FEV-ZMK"
      },
      "source": [
        "vocab_size = len(tokenizer.word_index) + 1# Adding 1 because of reserved 0 index\n",
        "maxlen = 100\n",
        "X_train = pad_sequences(X_train, padding='post', maxlen=maxlen)\n",
        "X_test = pad_sequences(X_test, padding='post', maxlen=maxlen)"
      ],
      "execution_count": null,
      "outputs": []
    },
    {
      "cell_type": "code",
      "metadata": {
        "colab": {
          "base_uri": "https://localhost:8080/"
        },
        "id": "meyosgv8CvbV",
        "outputId": "c3dc67c4-5040-453e-e79e-6c8f1759df08"
      },
      "source": [
        "!wget \"http://nlp.stanford.edu/data/glove.6B.zip\""
      ],
      "execution_count": null,
      "outputs": [
        {
          "output_type": "stream",
          "text": [
            "--2020-12-04 18:02:19--  http://nlp.stanford.edu/data/glove.6B.zip\n",
            "Resolving nlp.stanford.edu (nlp.stanford.edu)... 171.64.67.140\n",
            "Connecting to nlp.stanford.edu (nlp.stanford.edu)|171.64.67.140|:80... connected.\n",
            "HTTP request sent, awaiting response... 302 Found\n",
            "Location: https://nlp.stanford.edu/data/glove.6B.zip [following]\n",
            "--2020-12-04 18:02:19--  https://nlp.stanford.edu/data/glove.6B.zip\n",
            "Connecting to nlp.stanford.edu (nlp.stanford.edu)|171.64.67.140|:443... connected.\n",
            "HTTP request sent, awaiting response... 301 Moved Permanently\n",
            "Location: http://downloads.cs.stanford.edu/nlp/data/glove.6B.zip [following]\n",
            "--2020-12-04 18:02:19--  http://downloads.cs.stanford.edu/nlp/data/glove.6B.zip\n",
            "Resolving downloads.cs.stanford.edu (downloads.cs.stanford.edu)... 171.64.64.22\n",
            "Connecting to downloads.cs.stanford.edu (downloads.cs.stanford.edu)|171.64.64.22|:80... connected.\n",
            "HTTP request sent, awaiting response... 200 OK\n",
            "Length: 862182613 (822M) [application/zip]\n",
            "Saving to: ‘glove.6B.zip’\n",
            "\n",
            "glove.6B.zip        100%[===================>] 822.24M  1.98MB/s    in 6m 28s  \n",
            "\n",
            "2020-12-04 18:08:48 (2.12 MB/s) - ‘glove.6B.zip’ saved [862182613/862182613]\n",
            "\n"
          ],
          "name": "stdout"
        }
      ]
    },
    {
      "cell_type": "code",
      "metadata": {
        "colab": {
          "base_uri": "https://localhost:8080/"
        },
        "id": "Omrt4sEHBHUu",
        "outputId": "17c6379f-3873-439e-ed4c-a65228238616"
      },
      "source": [
        "!unzip /content/glove.6B.zip"
      ],
      "execution_count": null,
      "outputs": [
        {
          "output_type": "stream",
          "text": [
            "Archive:  /content/glove.6B.zip\n",
            "  inflating: glove.6B.50d.txt        \n",
            "  inflating: glove.6B.100d.txt       \n",
            "  inflating: glove.6B.200d.txt       \n",
            "  inflating: glove.6B.300d.txt       \n"
          ],
          "name": "stdout"
        }
      ]
    },
    {
      "cell_type": "code",
      "metadata": {
        "id": "08iL0uCc-u2X"
      },
      "source": [
        "from numpy import array\n",
        "from numpy import asarray\n",
        "from numpy import zeros\n",
        "\n",
        "embeddings_dictionary = dict()\n",
        "glove_file = open('/content/glove.6B.100d.txt', encoding=\"utf8\")\n",
        "\n",
        "for line in glove_file:\n",
        "    records = line.split()\n",
        "    word = records[0]\n",
        "    vector_dimensions = asarray(records[1:], dtype='float32')\n",
        "    embeddings_dictionary [word] = vector_dimensions\n",
        "glove_file.close()"
      ],
      "execution_count": null,
      "outputs": []
    },
    {
      "cell_type": "code",
      "metadata": {
        "id": "oGXAs8N5--1H"
      },
      "source": [
        "embedding_matrix = zeros((vocab_size, 100))\n",
        "for word, index in tokenizer.word_index.items():\n",
        "    embedding_vector = embeddings_dictionary.get(word)\n",
        "    if embedding_vector is not None:\n",
        "        embedding_matrix[index] = embedding_vector"
      ],
      "execution_count": null,
      "outputs": []
    },
    {
      "cell_type": "markdown",
      "metadata": {
        "id": "3kDpyOHzf92z"
      },
      "source": [
        "#**Text Classification with Simple Neural Network**\n",
        "\n",
        "\n",
        "\n",
        "\n"
      ]
    },
    {
      "cell_type": "code",
      "metadata": {
        "id": "BnQ0V1ky87vt"
      },
      "source": [
        "model = Sequential()\n",
        "embedding_layer = Embedding(vocab_size, 100, weights=[embedding_matrix], input_length=maxlen , trainable=False)\n",
        "model.add(embedding_layer)\n",
        "\n",
        "model.add(Flatten())\n",
        "model.add(Dense(1, activation='sigmoid'))"
      ],
      "execution_count": null,
      "outputs": []
    },
    {
      "cell_type": "code",
      "metadata": {
        "colab": {
          "base_uri": "https://localhost:8080/"
        },
        "id": "qkSFGr1m4YU0",
        "outputId": "396b9288-2db6-45e2-8cb4-2a2c37575524"
      },
      "source": [
        "model.compile(optimizer='adam', loss='binary_crossentropy', metrics=['acc'])\n",
        "print(model.summary())"
      ],
      "execution_count": null,
      "outputs": [
        {
          "output_type": "stream",
          "text": [
            "Model: \"sequential_1\"\n",
            "_________________________________________________________________\n",
            "Layer (type)                 Output Shape              Param #   \n",
            "=================================================================\n",
            "embedding_1 (Embedding)      (None, 100, 100)          9024800   \n",
            "_________________________________________________________________\n",
            "flatten_1 (Flatten)          (None, 10000)             0         \n",
            "_________________________________________________________________\n",
            "dense_1 (Dense)              (None, 1)                 10001     \n",
            "=================================================================\n",
            "Total params: 9,034,801\n",
            "Trainable params: 10,001\n",
            "Non-trainable params: 9,024,800\n",
            "_________________________________________________________________\n",
            "None\n"
          ],
          "name": "stdout"
        }
      ]
    },
    {
      "cell_type": "code",
      "metadata": {
        "colab": {
          "base_uri": "https://localhost:8080/"
        },
        "id": "7qW9H_yZ6Fwe",
        "outputId": "04eda91e-aaed-4c1a-8eaa-2952f068a8a7"
      },
      "source": [
        "history = model.fit(X_train, y_train, batch_size=128, epochs=6, verbose=1, validation_split=0.2)"
      ],
      "execution_count": null,
      "outputs": [
        {
          "output_type": "stream",
          "text": [
            "Epoch 1/6\n",
            "235/235 [==============================] - 1s 5ms/step - loss: 0.6085 - acc: 0.6695 - val_loss: 0.5568 - val_acc: 0.7177\n",
            "Epoch 2/6\n",
            "235/235 [==============================] - 1s 4ms/step - loss: 0.5011 - acc: 0.7566 - val_loss: 0.5551 - val_acc: 0.7216\n",
            "Epoch 3/6\n",
            "235/235 [==============================] - 1s 5ms/step - loss: 0.4653 - acc: 0.7828 - val_loss: 0.5231 - val_acc: 0.7441\n",
            "Epoch 4/6\n",
            "235/235 [==============================] - 1s 5ms/step - loss: 0.4368 - acc: 0.8004 - val_loss: 0.5602 - val_acc: 0.7252\n",
            "Epoch 5/6\n",
            "235/235 [==============================] - 1s 4ms/step - loss: 0.4227 - acc: 0.8073 - val_loss: 0.5926 - val_acc: 0.7121\n",
            "Epoch 6/6\n",
            "235/235 [==============================] - 1s 4ms/step - loss: 0.4085 - acc: 0.8146 - val_loss: 0.5378 - val_acc: 0.7419\n"
          ],
          "name": "stdout"
        }
      ]
    },
    {
      "cell_type": "code",
      "metadata": {
        "colab": {
          "base_uri": "https://localhost:8080/"
        },
        "id": "Tovwgy7W6K7k",
        "outputId": "b57fd67c-4155-4182-edb8-e534c530b2d2"
      },
      "source": [
        "score = model.evaluate(X_test, y_test, verbose=1)"
      ],
      "execution_count": null,
      "outputs": [
        {
          "output_type": "stream",
          "text": [
            "391/391 [==============================] - 1s 2ms/step - loss: 0.5392 - acc: 0.7381\n"
          ],
          "name": "stdout"
        }
      ]
    },
    {
      "cell_type": "code",
      "metadata": {
        "colab": {
          "base_uri": "https://localhost:8080/"
        },
        "id": "MCGE91o867zl",
        "outputId": "ab6079ec-c9e7-48ce-e3af-a03acc85aea2"
      },
      "source": [
        "print(\"Test Score:\", score[0])\n",
        "print(\"Test Accuracy:\", score[1])"
      ],
      "execution_count": null,
      "outputs": [
        {
          "output_type": "stream",
          "text": [
            "Test Score: 0.5392299890518188\n",
            "Test Accuracy: 0.7380800247192383\n"
          ],
          "name": "stdout"
        }
      ]
    },
    {
      "cell_type": "code",
      "metadata": {
        "colab": {
          "base_uri": "https://localhost:8080/",
          "height": 573
        },
        "id": "liYUasjs7do2",
        "outputId": "5843b0d1-e01d-4017-88bb-2ea94f1c6b6b"
      },
      "source": [
        "drawplot(history)"
      ],
      "execution_count": null,
      "outputs": [
        {
          "output_type": "display_data",
          "data": {
            "image/png": "[encoded data removed]",
            "text/plain": [
              "<Figure size 432x288 with 1 Axes>"
            ]
          },
          "metadata": {
            "tags": [],
            "needs_background": "light"
          }
        },
        {
          "output_type": "display_data",
          "data": {
            "image/png": "[encoded data removed]",
            "text/plain": [
              "<Figure size 432x288 with 1 Axes>"
            ]
          },
          "metadata": {
            "tags": [],
            "needs_background": "light"
          }
        }
      ]
    },
    {
      "cell_type": "code",
      "metadata": {
        "colab": {
          "base_uri": "https://localhost:8080/"
        },
        "id": "2IOOMplP7eND",
        "outputId": "717292f3-e668-405c-85dc-2a575bbdb1a1"
      },
      "source": [
        "ins = X[57:60]\n",
        "prediction(ins)"
      ],
      "execution_count": null,
      "outputs": [
        {
          "output_type": "stream",
          "text": [
            "I laughed all the way through this rotten movie It so unbelievable woman leaves her husband after many years of marriage has breakdown in front of real estate office What happens The office manager comes outside and offers her job Hilarious Next thing you know the two women are going at it Yep they re lesbians Nothing rings true in this Lifetime for Women with nothing better to do movie Clunky dialogue like don want to spend the rest of my life feeling like had chance to be happy and didn take it doesn help There a wealthy distant mother who disapproves of her daughter new relationship sassy black maid unbelievable that in the year film gets made in which there a sassy black maid Hattie McDaniel must be turning in her grave The woman has husband who freaks out and wants custody of the snotty teenage kids Sheesh No cliche is left unturned \n",
            "Positive rev\n",
            "NO SPOILERS After Hitchcock successful first American film Rebecca based upon Daphne DuMarier lush novel of gothic romance and intrigue he returned to some of the more familiar themes of his early British period mistaken identity and espionage As the S settled into World War II and the large scale war effort of civilians building planes weaponry and other necessary militia the booming film entertainment business began turning out paranoid and often jingoistic thrillers with war time themes These thrillers often involved networks of deceptive and skilled operators at work in the shadows among the good law abiding citizens Knowing the director was at home in this espionage genre producer Jack Skirball approached Hitchcock about directing property he owned that dealt with corruption war time sabotage and helpless hero thrust into vortex of coincidence and mistaken identity The darker elements of the narrative and the sharp wit of literary maven Dorothy Parker during her brief stint in Hollywood before returning to her bohemian roots in NYC who co authored the script were perfect match for Hitchcock sensibilities This often neglected film tells the story of the unfortunate year old Barry Kane Robert Cummings who while at work at Los Angeles Airplane Factory meets new employee Frank Frye Norman Lloydd and moments later is framed for committing sabotage Fleeing the authorities who don believe his far fetched story he meets several characters on his way to Soda City Utah and finally New York City These memorable characters include circus caravan with car full of helpful freaks and popular billboard model Patricia Martin Priscilla Lane who during the worst crisis of his life as well as national security he falls madly in love with Of course in the land of Hitchcock Patricia kidnapped by the supposed saboteur Barry falls for her captor thus adding romantic tension to the mix In good form for this outing Hitchcock brews national network of demure old ladies average Joes and respectable businessmen who double as secret agent terrorists that harbor criminals pull guns and detonate bombs to keep things moving It a terrific plot that takes its time moving forward and once ignited culminates in one of Hitchcock more memorable finales Look for incredibly life like NYC tourist attractions all of which were recreated by art directors in Hollywood due to the war time shooting ban on public attractions While Saboteur may not be one of Hitchcock most well known films it a popular movie that is certainly solid and engaging with plenty of clever plot twists and as usual terrific Hitchcock villains Remember to look for Hitchcock cameo appearance outside drug store in the second half of the film Hitchcock original cameo idea that was shot him fighting in sign language with his deaf wife was axed by the Bureau of Standards and Practices who were afraid of offending the deaf \n",
            "Positive rev\n",
            "I just watched The Dresser this evening having only seen it once before about dozen years ago It not big movie and doesn try to make big splash but my God the brilliance of the two leads leaves me just about speechless Albert Finney and Tom Courtenay are nothing less than amazing in this movie The Dresser is the story of Sir an aging Shakespearean actor Finney and his dresser Norman Courtenay sort of valet putting on production of King Lear during the blitz of London in World War II These are two men each dependent upon the other Sir is almost helpless without the aid of Norman to cajole wheedle and bully him into getting onstage for his th performance of Lear And Norman lives his life vicariously through Sir without Sir to need him he is nothing or thinks he is anyway This is character driven film the plot is secondary to the interaction of the characters and as such it requires actors of the highest caliber to bring it to life Finney only years old is completely believable as very old very sick petulant bullying but brilliant stage actor He hisses and fumes at his fellow actors even when they re taking their bows And Courtenay is no less convincing as the mincing dresser who must sometimes act more as mother than as valet to his elderly employer Employer is really the wrong term to use though For although technically their relationship is that of employer and employee most of the time Sir and Norman act like nothing so much as an old married couple Yes there are others in the cast of this movie but there is no question that the true stars are Finney Courtenay and the marvelous script by Ronald Harwood That is not to say that there aren other fine performances most notably Eileen Atkins as the long suffering stage manager Madge There is wonderful scene where Sir and Madge talk about old desires old regrets and what might have been Although it doesn get talked about these days it is worth remembering that The Dresser was nominated for five Academy Awards Best Actor nominations for both Finney and Courtenay Best Picture Best Director Peter Yates and Best Adapted Screenplay had remembered this as being good movie but wasn prepared to be as completely mesmerized as was from beginning to end If you want to see an example of what great acting is all about and be hugely entertained all the while then encourage you to see The Dresser \n",
            "Positive rev\n"
          ],
          "name": "stdout"
        }
      ]
    },
    {
      "cell_type": "code",
      "metadata": {
        "id": "HtqZc5li_2GS"
      },
      "source": [
        "backend.clear_session()"
      ],
      "execution_count": null,
      "outputs": []
    },
    {
      "cell_type": "markdown",
      "metadata": {
        "id": "88yNrtG--dei"
      },
      "source": [
        "# **Text Classification with a Convolutional Neural Network**"
      ]
    },
    {
      "cell_type": "code",
      "metadata": {
        "id": "K82yEcpK-HfR"
      },
      "source": [
        "model = Sequential()\n",
        "\n",
        "embedding_layer = Embedding(vocab_size, 100, weights=[embedding_matrix], input_length=maxlen , trainable=False)\n",
        "model.add(embedding_layer)\n",
        "\n",
        "model.add(Conv1D(128, 5, activation='relu'))\n",
        "model.add(GlobalMaxPooling1D())\n",
        "model.add(Dense(1, activation='sigmoid'))\n",
        "model.compile(optimizer='adam', loss='binary_crossentropy', metrics=['acc'])"
      ],
      "execution_count": null,
      "outputs": []
    },
    {
      "cell_type": "code",
      "metadata": {
        "colab": {
          "base_uri": "https://localhost:8080/"
        },
        "id": "lTngM-DH-ua7",
        "outputId": "fda2eafe-00b6-443b-d4fe-a31dbeb46f68"
      },
      "source": [
        "print(model.summary())"
      ],
      "execution_count": null,
      "outputs": [
        {
          "output_type": "stream",
          "text": [
            "Model: \"sequential\"\n",
            "_________________________________________________________________\n",
            "Layer (type)                 Output Shape              Param #   \n",
            "=================================================================\n",
            "embedding (Embedding)        (None, 100, 100)          9024800   \n",
            "_________________________________________________________________\n",
            "conv1d (Conv1D)              (None, 96, 128)           64128     \n",
            "_________________________________________________________________\n",
            "global_max_pooling1d (Global (None, 128)               0         \n",
            "_________________________________________________________________\n",
            "dense (Dense)                (None, 1)                 129       \n",
            "=================================================================\n",
            "Total params: 9,089,057\n",
            "Trainable params: 64,257\n",
            "Non-trainable params: 9,024,800\n",
            "_________________________________________________________________\n",
            "None\n"
          ],
          "name": "stdout"
        }
      ]
    },
    {
      "cell_type": "code",
      "metadata": {
        "colab": {
          "base_uri": "https://localhost:8080/"
        },
        "id": "5f8sJ7pI-vEg",
        "outputId": "c3bb667c-e2f4-48e2-9180-ed48eeced7a0"
      },
      "source": [
        "history = model.fit(X_train, y_train, batch_size=128, epochs=6, verbose=1, validation_split=0.2)\n",
        "score = model.evaluate(X_test, y_test, verbose=1)"
      ],
      "execution_count": null,
      "outputs": [
        {
          "output_type": "stream",
          "text": [
            "Epoch 1/6\n",
            "235/235 [==============================] - 1s 6ms/step - loss: 0.5066 - acc: 0.7484 - val_loss: 0.3974 - val_acc: 0.8220\n",
            "Epoch 2/6\n",
            "235/235 [==============================] - 1s 6ms/step - loss: 0.3721 - acc: 0.8347 - val_loss: 0.3719 - val_acc: 0.8329\n",
            "Epoch 3/6\n",
            "235/235 [==============================] - 1s 5ms/step - loss: 0.3249 - acc: 0.8618 - val_loss: 0.4248 - val_acc: 0.8064\n",
            "Epoch 4/6\n",
            "235/235 [==============================] - 1s 6ms/step - loss: 0.2811 - acc: 0.8858 - val_loss: 0.3509 - val_acc: 0.8427\n",
            "Epoch 5/6\n",
            "235/235 [==============================] - 1s 5ms/step - loss: 0.2443 - acc: 0.9082 - val_loss: 0.3688 - val_acc: 0.8367\n",
            "Epoch 6/6\n",
            "235/235 [==============================] - 1s 5ms/step - loss: 0.2139 - acc: 0.9235 - val_loss: 0.3505 - val_acc: 0.8436\n",
            "391/391 [==============================] - 1s 2ms/step - loss: 0.3457 - acc: 0.8454\n"
          ],
          "name": "stdout"
        }
      ]
    },
    {
      "cell_type": "code",
      "metadata": {
        "colab": {
          "base_uri": "https://localhost:8080/"
        },
        "id": "Alh4TtDa-zQx",
        "outputId": "65e8bf26-54fe-4edd-f0f1-dbdbc10e88ed"
      },
      "source": [
        "print(\"Test Score:\", score[0])\n",
        "print(\"Test Accuracy:\", score[1])"
      ],
      "execution_count": null,
      "outputs": [
        {
          "output_type": "stream",
          "text": [
            "Test Score: 0.3456566035747528\n",
            "Test Accuracy: 0.8454399704933167\n"
          ],
          "name": "stdout"
        }
      ]
    },
    {
      "cell_type": "code",
      "metadata": {
        "colab": {
          "base_uri": "https://localhost:8080/",
          "height": 573
        },
        "id": "KCJCszpg-22z",
        "outputId": "c919169d-0b52-4b1b-f0e1-0960296a89b8"
      },
      "source": [
        "drawplot(history)"
      ],
      "execution_count": null,
      "outputs": [
        {
          "output_type": "display_data",
          "data": {
            "image/png": "[encoded data removed]",
            "text/plain": [
              "<Figure size 432x288 with 1 Axes>"
            ]
          },
          "metadata": {
            "tags": [],
            "needs_background": "light"
          }
        },
        {
          "output_type": "display_data",
          "data": {
            "image/png": "[encoded data removed]",
            "text/plain": [
              "<Figure size 432x288 with 1 Axes>"
            ]
          },
          "metadata": {
            "tags": [],
            "needs_background": "light"
          }
        }
      ]
    },
    {
      "cell_type": "code",
      "metadata": {
        "colab": {
          "base_uri": "https://localhost:8080/"
        },
        "id": "dMDvp3wQ-7vM",
        "outputId": "dd728bcb-d98a-4df3-d5ec-2a69014af1b4"
      },
      "source": [
        "ins = X[57:60]\n",
        "prediction(ins)"
      ],
      "execution_count": null,
      "outputs": [
        {
          "output_type": "stream",
          "text": [
            "I laughed all the way through this rotten movie It so unbelievable woman leaves her husband after many years of marriage has breakdown in front of real estate office What happens The office manager comes outside and offers her job Hilarious Next thing you know the two women are going at it Yep they re lesbians Nothing rings true in this Lifetime for Women with nothing better to do movie Clunky dialogue like don want to spend the rest of my life feeling like had chance to be happy and didn take it doesn help There a wealthy distant mother who disapproves of her daughter new relationship sassy black maid unbelievable that in the year film gets made in which there a sassy black maid Hattie McDaniel must be turning in her grave The woman has husband who freaks out and wants custody of the snotty teenage kids Sheesh No cliche is left unturned \n",
            "Positive rev\n",
            "NO SPOILERS After Hitchcock successful first American film Rebecca based upon Daphne DuMarier lush novel of gothic romance and intrigue he returned to some of the more familiar themes of his early British period mistaken identity and espionage As the S settled into World War II and the large scale war effort of civilians building planes weaponry and other necessary militia the booming film entertainment business began turning out paranoid and often jingoistic thrillers with war time themes These thrillers often involved networks of deceptive and skilled operators at work in the shadows among the good law abiding citizens Knowing the director was at home in this espionage genre producer Jack Skirball approached Hitchcock about directing property he owned that dealt with corruption war time sabotage and helpless hero thrust into vortex of coincidence and mistaken identity The darker elements of the narrative and the sharp wit of literary maven Dorothy Parker during her brief stint in Hollywood before returning to her bohemian roots in NYC who co authored the script were perfect match for Hitchcock sensibilities This often neglected film tells the story of the unfortunate year old Barry Kane Robert Cummings who while at work at Los Angeles Airplane Factory meets new employee Frank Frye Norman Lloydd and moments later is framed for committing sabotage Fleeing the authorities who don believe his far fetched story he meets several characters on his way to Soda City Utah and finally New York City These memorable characters include circus caravan with car full of helpful freaks and popular billboard model Patricia Martin Priscilla Lane who during the worst crisis of his life as well as national security he falls madly in love with Of course in the land of Hitchcock Patricia kidnapped by the supposed saboteur Barry falls for her captor thus adding romantic tension to the mix In good form for this outing Hitchcock brews national network of demure old ladies average Joes and respectable businessmen who double as secret agent terrorists that harbor criminals pull guns and detonate bombs to keep things moving It a terrific plot that takes its time moving forward and once ignited culminates in one of Hitchcock more memorable finales Look for incredibly life like NYC tourist attractions all of which were recreated by art directors in Hollywood due to the war time shooting ban on public attractions While Saboteur may not be one of Hitchcock most well known films it a popular movie that is certainly solid and engaging with plenty of clever plot twists and as usual terrific Hitchcock villains Remember to look for Hitchcock cameo appearance outside drug store in the second half of the film Hitchcock original cameo idea that was shot him fighting in sign language with his deaf wife was axed by the Bureau of Standards and Practices who were afraid of offending the deaf \n",
            "Positive rev\n",
            "I just watched The Dresser this evening having only seen it once before about dozen years ago It not big movie and doesn try to make big splash but my God the brilliance of the two leads leaves me just about speechless Albert Finney and Tom Courtenay are nothing less than amazing in this movie The Dresser is the story of Sir an aging Shakespearean actor Finney and his dresser Norman Courtenay sort of valet putting on production of King Lear during the blitz of London in World War II These are two men each dependent upon the other Sir is almost helpless without the aid of Norman to cajole wheedle and bully him into getting onstage for his th performance of Lear And Norman lives his life vicariously through Sir without Sir to need him he is nothing or thinks he is anyway This is character driven film the plot is secondary to the interaction of the characters and as such it requires actors of the highest caliber to bring it to life Finney only years old is completely believable as very old very sick petulant bullying but brilliant stage actor He hisses and fumes at his fellow actors even when they re taking their bows And Courtenay is no less convincing as the mincing dresser who must sometimes act more as mother than as valet to his elderly employer Employer is really the wrong term to use though For although technically their relationship is that of employer and employee most of the time Sir and Norman act like nothing so much as an old married couple Yes there are others in the cast of this movie but there is no question that the true stars are Finney Courtenay and the marvelous script by Ronald Harwood That is not to say that there aren other fine performances most notably Eileen Atkins as the long suffering stage manager Madge There is wonderful scene where Sir and Madge talk about old desires old regrets and what might have been Although it doesn get talked about these days it is worth remembering that The Dresser was nominated for five Academy Awards Best Actor nominations for both Finney and Courtenay Best Picture Best Director Peter Yates and Best Adapted Screenplay had remembered this as being good movie but wasn prepared to be as completely mesmerized as was from beginning to end If you want to see an example of what great acting is all about and be hugely entertained all the while then encourage you to see The Dresser \n",
            "Positive rev\n"
          ],
          "name": "stdout"
        }
      ]
    },
    {
      "cell_type": "code",
      "metadata": {
        "id": "XbrRorGI_7hH"
      },
      "source": [
        "backend.clear_session()"
      ],
      "execution_count": null,
      "outputs": []
    },
    {
      "cell_type": "markdown",
      "metadata": {
        "id": "Ttlw8-C3_Fyf"
      },
      "source": [
        "# **Text Classification with Recurrent Neural Network (LSTM)**"
      ]
    },
    {
      "cell_type": "code",
      "metadata": {
        "id": "pZ_Mwb3P-_5X"
      },
      "source": [
        "model = Sequential()\n",
        "embedding_layer = Embedding(vocab_size, 100, weights=[embedding_matrix], input_length=maxlen , trainable=False)\n",
        "model.add(embedding_layer)\n",
        "model.add(LSTM(128))\n",
        "\n",
        "model.add(Dense(1, activation='sigmoid'))\n",
        "model.compile(optimizer='adam', loss='binary_crossentropy', metrics=['acc'])"
      ],
      "execution_count": null,
      "outputs": []
    },
    {
      "cell_type": "code",
      "metadata": {
        "colab": {
          "base_uri": "https://localhost:8080/"
        },
        "id": "rTMiIAjs_U00",
        "outputId": "38103306-5feb-4644-bc4a-d1e467a4893b"
      },
      "source": [
        "print(model.summary())"
      ],
      "execution_count": null,
      "outputs": [
        {
          "output_type": "stream",
          "text": [
            "Model: \"sequential\"\n",
            "_________________________________________________________________\n",
            "Layer (type)                 Output Shape              Param #   \n",
            "=================================================================\n",
            "embedding (Embedding)        (None, 100, 100)          9024800   \n",
            "_________________________________________________________________\n",
            "lstm (LSTM)                  (None, 128)               117248    \n",
            "_________________________________________________________________\n",
            "dense (Dense)                (None, 1)                 129       \n",
            "=================================================================\n",
            "Total params: 9,142,177\n",
            "Trainable params: 117,377\n",
            "Non-trainable params: 9,024,800\n",
            "_________________________________________________________________\n",
            "None\n"
          ],
          "name": "stdout"
        }
      ]
    },
    {
      "cell_type": "code",
      "metadata": {
        "colab": {
          "base_uri": "https://localhost:8080/"
        },
        "id": "3ooAyXbR_W5k",
        "outputId": "957b5d1a-0c48-4712-d9f6-ee9a4d07c8a1"
      },
      "source": [
        "history = model.fit(X_train, y_train, batch_size=128, epochs=6, verbose=1, validation_split=0.2)\n",
        "score = model.evaluate(X_test, y_test, verbose=1)"
      ],
      "execution_count": null,
      "outputs": [
        {
          "output_type": "stream",
          "text": [
            "Epoch 1/6\n",
            "235/235 [==============================] - 3s 14ms/step - loss: 0.5459 - acc: 0.7222 - val_loss: 0.5068 - val_acc: 0.7601\n",
            "Epoch 2/6\n",
            "235/235 [==============================] - 3s 11ms/step - loss: 0.4530 - acc: 0.7905 - val_loss: 0.4329 - val_acc: 0.7952\n",
            "Epoch 3/6\n",
            "235/235 [==============================] - 3s 12ms/step - loss: 0.4052 - acc: 0.8165 - val_loss: 0.3856 - val_acc: 0.8183\n",
            "Epoch 4/6\n",
            "235/235 [==============================] - 3s 11ms/step - loss: 0.3708 - acc: 0.8345 - val_loss: 0.3802 - val_acc: 0.8221\n",
            "Epoch 5/6\n",
            "235/235 [==============================] - 3s 11ms/step - loss: 0.3514 - acc: 0.8457 - val_loss: 0.3390 - val_acc: 0.8484\n",
            "Epoch 6/6\n",
            "235/235 [==============================] - 3s 11ms/step - loss: 0.3290 - acc: 0.8583 - val_loss: 0.3462 - val_acc: 0.8431\n",
            "391/391 [==============================] - 2s 4ms/step - loss: 0.3489 - acc: 0.8447\n"
          ],
          "name": "stdout"
        }
      ]
    },
    {
      "cell_type": "code",
      "metadata": {
        "colab": {
          "base_uri": "https://localhost:8080/"
        },
        "id": "qEFwTMKM_bYi",
        "outputId": "f7e9b439-1eed-4453-fd01-89c500ec340f"
      },
      "source": [
        "print(\"Test Score:\", score[0])\n",
        "print(\"Test Accuracy:\", score[1])"
      ],
      "execution_count": null,
      "outputs": [
        {
          "output_type": "stream",
          "text": [
            "Test Score: 0.3489214777946472\n",
            "Test Accuracy: 0.8447200059890747\n"
          ],
          "name": "stdout"
        }
      ]
    },
    {
      "cell_type": "code",
      "metadata": {
        "colab": {
          "base_uri": "https://localhost:8080/",
          "height": 573
        },
        "id": "JRZNKp_n_fA3",
        "outputId": "220cdb99-6d09-4e81-a479-61e7015c6db9"
      },
      "source": [
        "drawplot(history)"
      ],
      "execution_count": null,
      "outputs": [
        {
          "output_type": "display_data",
          "data": {
            "image/png": "[encoded data removed]",
            "text/plain": [
              "<Figure size 432x288 with 1 Axes>"
            ]
          },
          "metadata": {
            "tags": [],
            "needs_background": "light"
          }
        },
        {
          "output_type": "display_data",
          "data": {
            "image/png": "[encoded data removed]",
            "text/plain": [
              "<Figure size 432x288 with 1 Axes>"
            ]
          },
          "metadata": {
            "tags": [],
            "needs_background": "light"
          }
        }
      ]
    },
    {
      "cell_type": "code",
      "metadata": {
        "colab": {
          "base_uri": "https://localhost:8080/"
        },
        "id": "ZNqm1qEv_jxB",
        "outputId": "e7929fd9-d019-4808-81a8-8e91ebad5d4e"
      },
      "source": [
        "ins = X[57:60]\n",
        "prediction(ins)"
      ],
      "execution_count": null,
      "outputs": [
        {
          "output_type": "stream",
          "text": [
            "I laughed all the way through this rotten movie It so unbelievable woman leaves her husband after many years of marriage has breakdown in front of real estate office What happens The office manager comes outside and offers her job Hilarious Next thing you know the two women are going at it Yep they re lesbians Nothing rings true in this Lifetime for Women with nothing better to do movie Clunky dialogue like don want to spend the rest of my life feeling like had chance to be happy and didn take it doesn help There a wealthy distant mother who disapproves of her daughter new relationship sassy black maid unbelievable that in the year film gets made in which there a sassy black maid Hattie McDaniel must be turning in her grave The woman has husband who freaks out and wants custody of the snotty teenage kids Sheesh No cliche is left unturned \n",
            "WARNING:tensorflow:5 out of the last 16 calls to <function Model.make_predict_function.<locals>.predict_function at 0x7f57e2ecb400> triggered tf.function retracing. Tracing is expensive and the excessive number of tracings could be due to (1) creating @tf.function repeatedly in a loop, (2) passing tensors with different shapes, (3) passing Python objects instead of tensors. For (1), please define your @tf.function outside of the loop. For (2), @tf.function has experimental_relax_shapes=True option that relaxes argument shapes that can avoid unnecessary retracing. For (3), please refer to https://www.tensorflow.org/tutorials/customization/performance#python_or_tensor_args and https://www.tensorflow.org/api_docs/python/tf/function for  more details.\n",
            "Negative rev\n",
            "NO SPOILERS After Hitchcock successful first American film Rebecca based upon Daphne DuMarier lush novel of gothic romance and intrigue he returned to some of the more familiar themes of his early British period mistaken identity and espionage As the S settled into World War II and the large scale war effort of civilians building planes weaponry and other necessary militia the booming film entertainment business began turning out paranoid and often jingoistic thrillers with war time themes These thrillers often involved networks of deceptive and skilled operators at work in the shadows among the good law abiding citizens Knowing the director was at home in this espionage genre producer Jack Skirball approached Hitchcock about directing property he owned that dealt with corruption war time sabotage and helpless hero thrust into vortex of coincidence and mistaken identity The darker elements of the narrative and the sharp wit of literary maven Dorothy Parker during her brief stint in Hollywood before returning to her bohemian roots in NYC who co authored the script were perfect match for Hitchcock sensibilities This often neglected film tells the story of the unfortunate year old Barry Kane Robert Cummings who while at work at Los Angeles Airplane Factory meets new employee Frank Frye Norman Lloydd and moments later is framed for committing sabotage Fleeing the authorities who don believe his far fetched story he meets several characters on his way to Soda City Utah and finally New York City These memorable characters include circus caravan with car full of helpful freaks and popular billboard model Patricia Martin Priscilla Lane who during the worst crisis of his life as well as national security he falls madly in love with Of course in the land of Hitchcock Patricia kidnapped by the supposed saboteur Barry falls for her captor thus adding romantic tension to the mix In good form for this outing Hitchcock brews national network of demure old ladies average Joes and respectable businessmen who double as secret agent terrorists that harbor criminals pull guns and detonate bombs to keep things moving It a terrific plot that takes its time moving forward and once ignited culminates in one of Hitchcock more memorable finales Look for incredibly life like NYC tourist attractions all of which were recreated by art directors in Hollywood due to the war time shooting ban on public attractions While Saboteur may not be one of Hitchcock most well known films it a popular movie that is certainly solid and engaging with plenty of clever plot twists and as usual terrific Hitchcock villains Remember to look for Hitchcock cameo appearance outside drug store in the second half of the film Hitchcock original cameo idea that was shot him fighting in sign language with his deaf wife was axed by the Bureau of Standards and Practices who were afraid of offending the deaf \n",
            "Negative rev\n",
            "I just watched The Dresser this evening having only seen it once before about dozen years ago It not big movie and doesn try to make big splash but my God the brilliance of the two leads leaves me just about speechless Albert Finney and Tom Courtenay are nothing less than amazing in this movie The Dresser is the story of Sir an aging Shakespearean actor Finney and his dresser Norman Courtenay sort of valet putting on production of King Lear during the blitz of London in World War II These are two men each dependent upon the other Sir is almost helpless without the aid of Norman to cajole wheedle and bully him into getting onstage for his th performance of Lear And Norman lives his life vicariously through Sir without Sir to need him he is nothing or thinks he is anyway This is character driven film the plot is secondary to the interaction of the characters and as such it requires actors of the highest caliber to bring it to life Finney only years old is completely believable as very old very sick petulant bullying but brilliant stage actor He hisses and fumes at his fellow actors even when they re taking their bows And Courtenay is no less convincing as the mincing dresser who must sometimes act more as mother than as valet to his elderly employer Employer is really the wrong term to use though For although technically their relationship is that of employer and employee most of the time Sir and Norman act like nothing so much as an old married couple Yes there are others in the cast of this movie but there is no question that the true stars are Finney Courtenay and the marvelous script by Ronald Harwood That is not to say that there aren other fine performances most notably Eileen Atkins as the long suffering stage manager Madge There is wonderful scene where Sir and Madge talk about old desires old regrets and what might have been Although it doesn get talked about these days it is worth remembering that The Dresser was nominated for five Academy Awards Best Actor nominations for both Finney and Courtenay Best Picture Best Director Peter Yates and Best Adapted Screenplay had remembered this as being good movie but wasn prepared to be as completely mesmerized as was from beginning to end If you want to see an example of what great acting is all about and be hugely entertained all the while then encourage you to see The Dresser \n",
            "Negative rev\n"
          ],
          "name": "stdout"
        }
      ]
    },
    {
      "cell_type": "markdown",
      "metadata": {
        "id": "A3R4dweIGuD1"
      },
      "source": [
        "**References :**\n",
        "\n",
        "\n",
        "1.   Kaggel IMDb dataset\n",
        "2.   Stackabuse, movies sentiments analysis using DL in keras\n",
        "\n"
      ]
    }
  ]
}